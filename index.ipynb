{
 "cells": [
  {
   "cell_type": "markdown",
   "id": "8a2ebfdd-b654-49f9-a045-ddd38466e050",
   "metadata": {},
   "source": [
    "# Template tutorial (For local use and Binder)\n",
    "\n",
    "Description of tutorial"
   ]
  },
  {
   "cell_type": "markdown",
   "id": "c4526306-7fa0-47c1-8f33-c1bd60aea56c",
   "metadata": {
    "id": "604065b5"
   },
   "source": [
    "# Section 1: Importing Image and Libraries"
   ]
  },
  {
   "cell_type": "code",
   "execution_count": null,
   "id": "2ab78fcd-abfd-49ae-98f9-7faca2bdb36b",
   "metadata": {
    "id": "62ef791b"
   },
   "outputs": [],
   "source": [
    "# Set the notebook display method\n",
    "# If widget is not working, then change to inline\n",
    "%matplotlib widget\n",
    "\n",
    "# Import libraries\n",
    "from plantcv import plantcv as pcv\n",
    "from plantcv.parallel import WorkflowInputs\n",
    "\n",
    "# Print out the version of PlantCV being used by the Jupyter kernel\n",
    "pcv.__version__"
   ]
  },
  {
   "cell_type": "markdown",
   "id": "b0f8cf92-bfd0-4541-aa74-a6a6406ddbb5",
   "metadata": {
    "id": "4468af74"
   },
   "source": [
    "## Input/Output variables\n",
    "\n",
    "The options class mimics the workflow command-line argument parser that is used for workflow parallelization. Using it while developing a workflow in Jupyter makes it easier to convert the workflow to a script later. Remember, always keep your raw images separate from your newly processed images!"
   ]
  },
  {
   "cell_type": "code",
   "execution_count": null,
   "id": "1e7e9b03",
   "metadata": {},
   "outputs": [],
   "source": [
    "# Input/output options\n",
    "args = WorkflowInputs(\n",
    "    images=[\"img/plant-image.jpg\"],\n",
    "    names=\"image1\",\n",
    "    result=\"test.json\",\n",
    "    outdir=\".\",\n",
    "    writeimg=True,\n",
    "    debug=\"plot\"\n",
    "    )"
   ]
  },
  {
   "cell_type": "code",
   "execution_count": null,
   "id": "223254b4",
   "metadata": {},
   "outputs": [],
   "source": [
    "# Set debug to the global parameter \n",
    "pcv.params.debug = args.debug\n",
    "# Change display settings\n",
    "pcv.params.dpi = 100\n",
    "# Increase text size and thickness to make labels clearer\n",
    "# (size may need to be altered based on original image size)\n",
    "pcv.params.text_size = 20\n",
    "pcv.params.text_thickness = 20"
   ]
  },
  {
   "cell_type": "markdown",
   "id": "e91d45fd-1e95-44dc-9fbd-6516819d2459",
   "metadata": {
    "id": "343a0816"
   },
   "source": [
    "## Read the input image"
   ]
  },
  {
   "cell_type": "markdown",
   "id": "b7fd131d-0a13-47de-8100-4b4169f2dac1",
   "metadata": {
    "id": "Q4Na59TNNg1x"
   },
   "source": [
    "### Reading images into your environment using *pcv.readimage()*\n",
    "Inputs:\n",
    "   * filename = Image file to be read in\n",
    "   * mode     = How the image will be read into the notebook; either 'native' (default), 'rgb', 'gray', 'csv', or 'envi'"
   ]
  },
  {
   "cell_type": "code",
   "execution_count": null,
   "id": "71895a19-09a4-4118-a446-8e80082c03db",
   "metadata": {
    "id": "03a085f7"
   },
   "outputs": [],
   "source": [
    "img, path, filename = pcv.readimage(filename=args.image1)"
   ]
  }
 ],
 "metadata": {
  "kernelspec": {
   "display_name": "Python 3 (ipykernel)",
   "language": "python",
   "name": "python3"
  },
  "language_info": {
   "codemirror_mode": {
    "name": "ipython",
    "version": 3
   },
   "file_extension": ".py",
   "mimetype": "text/x-python",
   "name": "python",
   "nbconvert_exporter": "python",
   "pygments_lexer": "ipython3",
   "version": "3.11.10"
  }
 },
 "nbformat": 4,
 "nbformat_minor": 5
}
